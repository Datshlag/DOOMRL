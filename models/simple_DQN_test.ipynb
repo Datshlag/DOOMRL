{
 "cells": [
  {
   "cell_type": "code",
   "execution_count": 1,
   "metadata": {
    "collapsed": true
   },
   "outputs": [],
   "source": [
    "from __future__ import division\n",
    "from __future__ import print_function\n",
    "from vizdoom import *\n",
    "import itertools as it\n",
    "from random import sample, randint, random\n",
    "from time import time, sleep\n",
    "import numpy as np\n",
    "import skimage.color, skimage.transform\n",
    "import torch\n",
    "import torch.nn as nn\n",
    "import torch.nn.functional as F\n",
    "from torchvision import datasets, transforms\n",
    "from torch.autograd import Variable"
   ]
  },
  {
   "cell_type": "code",
   "execution_count": 21,
   "metadata": {
    "collapsed": true
   },
   "outputs": [],
   "source": [
    "# NN learning settings\n",
    "batch_size = 64\n",
    "\n",
    "# Training regime\n",
    "test_episodes_per_epoch = 100\n",
    "\n",
    "# Other parameters\n",
    "frame_repeat = 12\n",
    "resolution = (30, 45)\n",
    "episodes_to_watch = 10\n",
    "\n",
    "model_savefile = \"./models/dqn_simple.pth\"\n",
    "save_model = True\n",
    "load_model = False\n",
    "skip_learning = False\n",
    "# Configuration file path\n",
    "# config_file_path = \"../../scenarios/simpler_basic.cfg\"\n",
    "\n",
    "\n",
    "config_file_path = \"ViZDoom/scenarios/rocket_basic.cfg\"\n",
    "# config_file_path = \"ViZDoom/scenarios/basic.cfg\"\n",
    "\n",
    "# Converts and down-samples the input image\n",
    "def preprocess(img):\n",
    "    img = skimage.transform.resize(img, resolution)\n",
    "    img = img.astype(np.float32)\n",
    "    return img\n",
    "\n",
    "\n",
    "class Net(nn.Module):\n",
    "    def __init__(self, available_actions_count):\n",
    "        super(Net, self).__init__()\n",
    "        self.conv1 = nn.Conv2d(1, 8, kernel_size=6, stride=3)\n",
    "        self.conv2 = nn.Conv2d(8, 8, kernel_size=3, stride=2)\n",
    "        self.fc1 = nn.Linear(192, 128)\n",
    "        self.fc2 = nn.Linear(128, available_actions_count)\n",
    "\n",
    "    def forward(self, x):\n",
    "        x = F.relu(self.conv1(x))\n",
    "        x = F.relu(self.conv2(x))\n",
    "        x = x.view(-1, 192)\n",
    "        x = F.relu(self.fc1(x))\n",
    "        return self.fc2(x)\n",
    "\n",
    "\n",
    "def get_q_values(state):\n",
    "    state = torch.from_numpy(state)\n",
    "    state = Variable(state)\n",
    "    return model(state)\n",
    "\n",
    "def get_best_action(state):\n",
    "    q = get_q_values(state)\n",
    "    m, index = torch.max(q, 1)\n",
    "    action = index.data.numpy()[0]\n",
    "    return action\n",
    "\n",
    "\n",
    "# Creates and initializes ViZDoom environment.\n",
    "def initialize_vizdoom(config_file_path):\n",
    "    print(\"Initializing doom...\")\n",
    "    game = DoomGame()\n",
    "    game.load_config(config_file_path)\n",
    "    game.set_window_visible(True)\n",
    "    game.set_mode(Mode.PLAYER)\n",
    "    game.set_screen_format(ScreenFormat.GRAY8)\n",
    "    game.set_screen_resolution(ScreenResolution.RES_640X480)\n",
    "    game.init()\n",
    "    print(\"Doom initialized.\")\n",
    "    return game  "
   ]
  },
  {
   "cell_type": "code",
   "execution_count": 25,
   "metadata": {},
   "outputs": [
    {
     "name": "stdout",
     "output_type": "stream",
     "text": [
      "Initializing doom...\n",
      "Doom initialized.\n",
      "Loading model from:  ./models/dqn_simple.pth\n",
      "======================================\n",
      "Testing trained neural network!\n"
     ]
    },
    {
     "name": "stderr",
     "output_type": "stream",
     "text": [
      "/home/alois/.conda/envs/mva/lib/python3.6/site-packages/skimage/transform/_warps.py:84: UserWarning: The default mode, 'constant', will be changed to 'reflect' in skimage 0.15.\n",
      "  warn(\"The default mode, 'constant', will be changed to 'reflect' in \"\n"
     ]
    },
    {
     "name": "stdout",
     "output_type": "stream",
     "text": [
      "Total score:  41.0\n",
      "Total score:  66.0\n",
      "Total score:  66.0\n",
      "Total score:  66.0\n",
      "Total score:  41.0\n",
      "Total score:  30.0\n",
      "Total score:  18.0\n",
      "Total score:  66.0\n",
      "Total score:  66.0\n",
      "Total score:  41.0\n"
     ]
    }
   ],
   "source": [
    "# Create Doom instance\n",
    "game = initialize_vizdoom(config_file_path)\n",
    "\n",
    "# Action = which buttons are pressed\n",
    "n = game.get_available_buttons_size()\n",
    "actions = [list(a) for a in it.product([0, 1], repeat=n)]\n",
    "\n",
    "print(\"Loading model from: \", model_savefile)\n",
    "model = torch.load(model_savefile)\n",
    "\n",
    "print(\"======================================\")\n",
    "print(\"Testing trained neural network!\")\n",
    "\n",
    "# Reinitialize the game with window visible\n",
    "game.set_window_visible(True)\n",
    "game.set_mode(Mode.ASYNC_PLAYER)\n",
    "game.init()\n",
    "\n",
    "for _ in range(episodes_to_watch):\n",
    "    game.new_episode()\n",
    "    while not game.is_episode_finished():\n",
    "        state = preprocess(game.get_state().screen_buffer)\n",
    "        state = state.reshape([1, 1, resolution[0], resolution[1]])\n",
    "        best_action_index = get_best_action(state)\n",
    "\n",
    "        # Instead of make_action(a, frame_repeat) in order to make the animation smooth\n",
    "        game.set_action(actions[best_action_index])\n",
    "        for _ in range(frame_repeat):\n",
    "            game.advance_action()\n",
    "            sleep(0.03)\n",
    "\n",
    "    # Sleep between episodes\n",
    "    sleep(1.0)\n",
    "    score = game.get_total_reward()\n",
    "    print(\"Total score: \", score)\n",
    "    \n",
    "game.close()"
   ]
  }
 ],
 "metadata": {
  "kernelspec": {
   "display_name": "Python 3",
   "language": "python",
   "name": "python3"
  },
  "language_info": {
   "codemirror_mode": {
    "name": "ipython",
    "version": 3
   },
   "file_extension": ".py",
   "mimetype": "text/x-python",
   "name": "python",
   "nbconvert_exporter": "python",
   "pygments_lexer": "ipython3",
   "version": "3.6.3"
  }
 },
 "nbformat": 4,
 "nbformat_minor": 2
}
